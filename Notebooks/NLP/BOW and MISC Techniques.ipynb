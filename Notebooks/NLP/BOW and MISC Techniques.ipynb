{
 "cells": [
  {
   "cell_type": "code",
   "execution_count": 1,
   "metadata": {},
   "outputs": [],
   "source": [
    "import itertools"
   ]
  },
  {
   "cell_type": "code",
   "execution_count": null,
   "metadata": {},
   "outputs": [],
   "source": [
    "\n",
    "\n"
   ]
  },
  {
   "cell_type": "code",
   "execution_count": 2,
   "metadata": {},
   "outputs": [],
   "source": [
    "corpus = [\n",
    "    'You do not want to use them. They are fine for many machine learning tasks, just not deep learning.',\n",
    "    'It’s always a good idea to examine our data before we get started plotting.',\n",
    "    'The problem is supervised text classification problem.',\n",
    "    'Our goal is to investigate which supervised machine learning methods are best suited to solve it.'\n",
    "]"
   ]
  },
  {
   "cell_type": "code",
   "execution_count": null,
   "metadata": {},
   "outputs": [],
   "source": [
    "\n",
    "\n"
   ]
  },
  {
   "cell_type": "code",
   "execution_count": 3,
   "metadata": {},
   "outputs": [],
   "source": [
    "def parse_document(document):\n",
    "    def parse_term(term):\n",
    "        for char_to_replace in [ '.', ',' ]:\n",
    "            term = term.replace(char_to_replace, '')\n",
    "        return term\n",
    "    \n",
    "    return [ \n",
    "        parse_term(term) \n",
    "        for term in document.lower().split(' ') \n",
    "    ]"
   ]
  },
  {
   "cell_type": "code",
   "execution_count": null,
   "metadata": {},
   "outputs": [],
   "source": [
    "\n",
    "\n"
   ]
  },
  {
   "cell_type": "code",
   "execution_count": 4,
   "metadata": {},
   "outputs": [
    {
     "data": {
      "text/plain": [
       "{'a': 1,\n",
       " 'always': 1,\n",
       " 'are': 2,\n",
       " 'before': 1,\n",
       " 'best': 1,\n",
       " 'classification': 1,\n",
       " 'data': 1,\n",
       " 'deep': 1,\n",
       " 'do': 1,\n",
       " 'examine': 1,\n",
       " 'fine': 1,\n",
       " 'for': 1,\n",
       " 'get': 1,\n",
       " 'goal': 1,\n",
       " 'good': 1,\n",
       " 'idea': 1,\n",
       " 'investigate': 1,\n",
       " 'is': 2,\n",
       " 'it': 1,\n",
       " 'it’s': 1,\n",
       " 'just': 1,\n",
       " 'learning': 3,\n",
       " 'machine': 2,\n",
       " 'many': 1,\n",
       " 'methods': 1,\n",
       " 'not': 2,\n",
       " 'our': 2,\n",
       " 'plotting': 1,\n",
       " 'problem': 2,\n",
       " 'solve': 1,\n",
       " 'started': 1,\n",
       " 'suited': 1,\n",
       " 'supervised': 2,\n",
       " 'tasks': 1,\n",
       " 'text': 1,\n",
       " 'the': 1,\n",
       " 'them': 1,\n",
       " 'they': 1,\n",
       " 'to': 4,\n",
       " 'use': 1,\n",
       " 'want': 1,\n",
       " 'we': 1,\n",
       " 'which': 1,\n",
       " 'you': 1}"
      ]
     },
     "execution_count": 4,
     "metadata": {},
     "output_type": "execute_result"
    }
   ],
   "source": [
    "all_terms = []\n",
    "for terms in [ parse_document(document) for document in corpus ]:\n",
    "    all_terms.extend(terms)\n",
    "\n",
    "\n",
    "BOW = dict([ \n",
    "    (k, len(list(g))) \n",
    "    for k, g in itertools.groupby(\\\n",
    "                    sorted(all_terms), key=lambda x: x) \n",
    "])\n",
    "\n",
    "BOW"
   ]
  },
  {
   "cell_type": "code",
   "execution_count": null,
   "metadata": {},
   "outputs": [],
   "source": [
    "\n",
    "\n"
   ]
  },
  {
   "cell_type": "code",
   "execution_count": 5,
   "metadata": {},
   "outputs": [
    {
     "data": {
      "text/plain": [
       "[[43, 8, 25, 40, 38, 39, 36, 37, 2, 10, 11, 23, 22, 21, 33, 20, 25, 7, 21],\n",
       " [19, 1, 0, 14, 15, 38, 9, 26, 6, 3, 41, 12, 30, 27],\n",
       " [35, 28, 17, 32, 34, 5, 28],\n",
       " [26, 13, 17, 38, 16, 42, 32, 22, 21, 24, 2, 4, 31, 38, 29, 18]]"
      ]
     },
     "execution_count": 5,
     "metadata": {},
     "output_type": "execute_result"
    }
   ],
   "source": [
    "vocab = list(BOW.keys())\n",
    "\n",
    "document_to_term_lookup = [ \n",
    "    [ \n",
    "        vocab.index(term) \n",
    "        for term in parse_document(document) \n",
    "    ] \n",
    "    for document in corpus \n",
    "]\n",
    "\n",
    "document_to_term_lookup"
   ]
  },
  {
   "cell_type": "code",
   "execution_count": null,
   "metadata": {},
   "outputs": [],
   "source": [
    "\n",
    "\n"
   ]
  },
  {
   "cell_type": "code",
   "execution_count": null,
   "metadata": {},
   "outputs": [],
   "source": []
  }
 ],
 "metadata": {
  "kernelspec": {
   "display_name": "Python 3",
   "language": "python",
   "name": "python3"
  },
  "language_info": {
   "codemirror_mode": {
    "name": "ipython",
    "version": 3
   },
   "file_extension": ".py",
   "mimetype": "text/x-python",
   "name": "python",
   "nbconvert_exporter": "python",
   "pygments_lexer": "ipython3",
   "version": "3.6.4"
  }
 },
 "nbformat": 4,
 "nbformat_minor": 2
}
