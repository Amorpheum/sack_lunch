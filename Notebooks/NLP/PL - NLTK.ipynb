{
 "cells": [
  {
   "cell_type": "code",
   "execution_count": 48,
   "metadata": {},
   "outputs": [
    {
     "name": "stdout",
     "output_type": "stream",
     "text": [
      "[nltk_data] Downloading package stopwords to\n",
      "[nltk_data]     C:\\Users\\dmpas\\AppData\\Roaming\\nltk_data...\n",
      "[nltk_data]   Package stopwords is already up-to-date!\n",
      "[nltk_data] Downloading package averaged_perceptron_tagger to\n",
      "[nltk_data]     C:\\Users\\dmpas\\AppData\\Roaming\\nltk_data...\n",
      "[nltk_data]   Unzipping taggers\\averaged_perceptron_tagger.zip.\n"
     ]
    },
    {
     "data": {
      "text/plain": [
       "True"
      ]
     },
     "execution_count": 48,
     "metadata": {},
     "output_type": "execute_result"
    }
   ],
   "source": [
    "## came from the pluralsight course, \n",
    "## 'https://app.pluralsight.com/library/courses/python-natural-language-processing/table-of-contents'\n",
    "\n",
    "import nltk\n",
    "\n",
    "## stop words,\n",
    "nltk.download('stopwords')\n",
    "\n",
    "## part of speech,\n",
    "nltk.download('averaged_perceptron_tagger')"
   ]
  },
  {
   "cell_type": "code",
   "execution_count": null,
   "metadata": {},
   "outputs": [],
   "source": [
    "\n"
   ]
  },
  {
   "cell_type": "code",
   "execution_count": 4,
   "metadata": {},
   "outputs": [],
   "source": [
    "text = 'Mary had a little lamb. Her fleece was white as snow.'"
   ]
  },
  {
   "cell_type": "code",
   "execution_count": null,
   "metadata": {},
   "outputs": [],
   "source": [
    "\n"
   ]
  },
  {
   "cell_type": "code",
   "execution_count": null,
   "metadata": {},
   "outputs": [],
   "source": [
    "## tokenize"
   ]
  },
  {
   "cell_type": "code",
   "execution_count": 5,
   "metadata": {},
   "outputs": [],
   "source": [
    "from nltk.tokenize import word_tokenize, sent_tokenize"
   ]
  },
  {
   "cell_type": "code",
   "execution_count": 7,
   "metadata": {},
   "outputs": [
    {
     "data": {
      "text/plain": [
       "['Mary had a little lamb.', 'Her fleece was white as snow.']"
      ]
     },
     "execution_count": 7,
     "metadata": {},
     "output_type": "execute_result"
    }
   ],
   "source": [
    "sentences = sent_tokenize(text)\n",
    "sentences"
   ]
  },
  {
   "cell_type": "code",
   "execution_count": 9,
   "metadata": {},
   "outputs": [
    {
     "data": {
      "text/plain": [
       "[['Mary', 'had', 'a', 'little', 'lamb', '.'],\n",
       " ['Her', 'fleece', 'was', 'white', 'as', 'snow', '.']]"
      ]
     },
     "execution_count": 9,
     "metadata": {},
     "output_type": "execute_result"
    }
   ],
   "source": [
    "terms = [ word_tokenize(sentence) for sentence in sentences ]\n",
    "terms"
   ]
  },
  {
   "cell_type": "code",
   "execution_count": null,
   "metadata": {},
   "outputs": [],
   "source": [
    "\n"
   ]
  },
  {
   "cell_type": "code",
   "execution_count": null,
   "metadata": {},
   "outputs": [],
   "source": [
    "## remove punctuation and stopwords"
   ]
  },
  {
   "cell_type": "code",
   "execution_count": 13,
   "metadata": {},
   "outputs": [],
   "source": [
    "from string import punctuation\n",
    "from nltk.corpus import stopwords"
   ]
  },
  {
   "cell_type": "code",
   "execution_count": 34,
   "metadata": {},
   "outputs": [
    {
     "data": {
      "text/plain": [
       "['Mary', 'little', 'lamb', 'Her', 'fleece', 'white', 'snow']"
      ]
     },
     "execution_count": 34,
     "metadata": {},
     "output_type": "execute_result"
    }
   ],
   "source": [
    "customStopWords = list(set(stopwords.words('english') + list(punctuation)))\n",
    "\n",
    "words = [ ]\n",
    "for sentence in terms:\n",
    "    for word in sentence:\n",
    "        if word in customStopWords:\n",
    "            continue\n",
    "        words.append(word)\n",
    "\n",
    "words"
   ]
  },
  {
   "cell_type": "code",
   "execution_count": null,
   "metadata": {},
   "outputs": [],
   "source": [
    "\n"
   ]
  },
  {
   "cell_type": "code",
   "execution_count": 35,
   "metadata": {},
   "outputs": [],
   "source": [
    "## Bigrams"
   ]
  },
  {
   "cell_type": "code",
   "execution_count": 36,
   "metadata": {},
   "outputs": [],
   "source": [
    "from nltk.collocations import *"
   ]
  },
  {
   "cell_type": "code",
   "execution_count": 42,
   "metadata": {},
   "outputs": [
    {
     "data": {
      "text/plain": [
       "[(('Mary', 'little'), 1),\n",
       " (('little', 'lamb'), 1),\n",
       " (('lamb', 'Her'), 1),\n",
       " (('Her', 'fleece'), 1),\n",
       " (('fleece', 'white'), 1),\n",
       " (('white', 'snow'), 1)]"
      ]
     },
     "execution_count": 42,
     "metadata": {},
     "output_type": "execute_result"
    }
   ],
   "source": [
    "bigram_measures = nltk.collocations.BigramAssocMeasures()\n",
    "finder = BigramCollocationFinder.from_words(words)\n",
    "\n",
    "## distinct bigrams and frequencies,\n",
    "sorted(list(finder.ngram_fd.items()), key=lambda x: x[1], reverse=True)"
   ]
  },
  {
   "cell_type": "code",
   "execution_count": null,
   "metadata": {},
   "outputs": [],
   "source": [
    "\n"
   ]
  },
  {
   "cell_type": "code",
   "execution_count": null,
   "metadata": {},
   "outputs": [],
   "source": [
    "## different morphological forms, stemming"
   ]
  },
  {
   "cell_type": "code",
   "execution_count": 45,
   "metadata": {},
   "outputs": [],
   "source": [
    "from nltk.stem.lancaster import LancasterStemmer"
   ]
  },
  {
   "cell_type": "code",
   "execution_count": 46,
   "metadata": {},
   "outputs": [
    {
     "data": {
      "text/plain": [
       "['mary',\n",
       " 'clos',\n",
       " 'on',\n",
       " 'clos',\n",
       " 'night',\n",
       " 'when',\n",
       " 'she',\n",
       " 'was',\n",
       " 'in',\n",
       " 'the',\n",
       " 'mood',\n",
       " 'to',\n",
       " 'clos',\n",
       " '.']"
      ]
     },
     "execution_count": 46,
     "metadata": {},
     "output_type": "execute_result"
    }
   ],
   "source": [
    "text2 = 'Mary closed on closing night when she was in the mood to close.'\n",
    "\n",
    "st = LancasterStemmer()\n",
    "stemmedWords = [ st.stem(word) for word in word_tokenize(text2) ]\n",
    "stemmedWords"
   ]
  },
  {
   "cell_type": "code",
   "execution_count": 50,
   "metadata": {},
   "outputs": [
    {
     "data": {
      "text/plain": [
       "[('Mary', 'NNP'),\n",
       " ('closed', 'VBD'),\n",
       " ('on', 'IN'),\n",
       " ('closing', 'NN'),\n",
       " ('night', 'NN'),\n",
       " ('when', 'WRB'),\n",
       " ('she', 'PRP'),\n",
       " ('was', 'VBD'),\n",
       " ('in', 'IN'),\n",
       " ('the', 'DT'),\n",
       " ('mood', 'NN'),\n",
       " ('to', 'TO'),\n",
       " ('close', 'VB'),\n",
       " ('.', '.')]"
      ]
     },
     "execution_count": 50,
     "metadata": {},
     "output_type": "execute_result"
    }
   ],
   "source": [
    "nltk.pos_tag(\n",
    "    word_tokenize(text2))"
   ]
  },
  {
   "cell_type": "code",
   "execution_count": null,
   "metadata": {},
   "outputs": [],
   "source": [
    "\n"
   ]
  },
  {
   "cell_type": "code",
   "execution_count": null,
   "metadata": {},
   "outputs": [],
   "source": [
    "## pull article, compute a summary,"
   ]
  },
  {
   "cell_type": "code",
   "execution_count": 56,
   "metadata": {},
   "outputs": [],
   "source": [
    "import urllib.request as urllib2\n",
    "from bs4 import BeautifulSoup"
   ]
  },
  {
   "cell_type": "code",
   "execution_count": 66,
   "metadata": {},
   "outputs": [],
   "source": [
    "url = 'https://www.washingtonpost.com/powerpost/senates-sluggish-start-reflects-the-republicans-narrow-policy-agenda/2019/03/20/4590acf4-4b25-11e9-9663-00ac73f49662_story.html?utm_term=.a63589b0a0e8'"
   ]
  },
  {
   "cell_type": "code",
   "execution_count": 67,
   "metadata": {},
   "outputs": [],
   "source": [
    "def get_article(url):\n",
    "    page = urllib2.urlopen(url).read().decode('utf8', 'ignore')\n",
    "    soup = BeautifulSoup(page, 'lxml')\n",
    "    \n",
    "    text = ' '.join(map(lambda p: p.text, soup.find_all('article')))\n",
    "    text = text.encode('ascii', errors='replace').decode('ascii').replace('?', ' ')\n",
    "    return text"
   ]
  },
  {
   "cell_type": "code",
   "execution_count": 69,
   "metadata": {},
   "outputs": [
    {
     "data": {
      "text/plain": [
       "'          By  Paul Kane          Paul Kane Senior congressional correspondent and columnist  Email  Bio  Follow        March 20 at 6:20 PM    The Senate is well-known for its deliberative ways, but the first three months of this new Congress are off to a historically sluggish start. When senators return Monday night for a vote on a judicial nominee, it will be just their 50th roll call of the year, and with only a couple of other votes likely for the week, the Senate will hit the three-month mark of 2019 about 50 percent behind the pace that Majority Leader Mitch McConnell (R-Ky.) set in early 2017 after President Trump took office. The slow start is indicative of a broader problem for Trump, McConnell and Republicans, as they head into the 2020 election season with a policy agenda that is fairly timid and has so far been mostly invisible in the GOP-controlled Senate. The first few weeks of January and February dealt mostly with the leftover mess from last year, reopening portions of the federal government amid Trump s standoff with Democrats over border wall funding. In mid-February, the Senate approved a massive spending bill for agencies and a bipartisan federal lands legislation, both holdovers from 2018. Ever since, the Senate has considered just three pieces of legislation consequential enough to merit a roll-call vote, and two of those came over Trump and McConnell s objections. Democrats and a small group of Republicans used parliamentary tactics to pass resolutions opposing the president s declaration of emergency powers in building the wall and another to end U.S. support for the Saudi-led military campaign in Yemen. Trump has vetoed the first resolution and is expected to veto the Yemen resolution if the House signs off on it. In the past five weeks, the only leadership-backed legislation to receive a vote came on a bill designed to divide Democrats after controversial comments from Virginia Democrats about an abortion bill in the commonwealth s legislature. It failed on a procedural vote.  This is your fault : GOP senators clash over shutdown inside private luncheon With Democrats taking over the House, McConnell lowered expectations for this year s legislative output and reset his key priority of confirming Trump s nominees to the federal courts.  You know what my top priority is, I ve made it very clear. It s the judiciary,  McConnell told reporters the day after the midterm elections. He recited the record-setting pace of confirming appellate court judges and two Supreme Court justices.  We intend to keep confirming as many as we possibly can for as long as we re in a position to do it,  he said. Other than that, McConnell predicted that they would work on  something on infrastructure  and would consider Trump s push for lower costs for prescription drugs. So far, division runs deep on the focus of an infrastructure bill   mass transit or rural highways   and more so on how to fund it. The Senate Finance Committee has held hearings about prescription drugs, but the chairman, Sen. Charles E. Grassley (R-Iowa) described his efforts as still in the  fact-finding  phase. Sen. Lamar Alexander (R-Tenn.), chairman of the Health, Education, Labor and Pensions Committee, is working on legislation that would update higher-education laws, as well as a bill to stabilize health-care costs. Those are, at least, months away from getting committee approval, let alone coming to the full Senate. It s unclear whether the Senate or House will consider full budget resolutions, as they must first reach agreement on the broader spending framework. A 2011 budget law would slash spending by nearly $100 billion next year, and a deal to avert that is not likely until the late summer or fall. McConnell s focus on judges will soon run into a problem of his own success: a lack of prominent positions to fill. The circuit courts of appeal, one step below the Supreme Court, are at the equivalent of full employment   there are just nine vacancies, out of more than 180 posts, and just three do not yet have a nominee in the pipeline. Within weeks, Republicans will run out of circuit judges to confirm. Hundreds of district court nominees and other less prominent sub-Cabinet executive branch posts await confirmation. McConnell, the self-described institutionalist, is poised to change the rules on a simple-majority vote, rather than the traditional two-thirds majority, that will speed up Senate procedures for approving those lower-level nominees. Democrats will charge hypocrisy, after McConnell blasted them for  breaking the rules  in 2013 when they used the same maneuver. But the result is likely to just turn the Senate into an assembly line for confirming nominees that no one has ever heard of, not the type of moves that drive the political base the way Justice Brett M. Kavanaugh s confirmation clash last fall boosted turnout in conservative states. Tillis s reversal sums up state of Senate Republicans   few willing to cross Trump Some GOP strategists are warning that Republicans need a broader agenda on domestic policy issues or else they will remain in the House minority and imperil their Senate majority next year.  The ability of House and Senate Republicans to offer a positive agenda that addresses people s kitchen table priorities, from jobs, wages and now retirement fears to health care concerns, could well be the deciding factor in who controls the next Congress,  David Winston, a Republican pollster who advises congressional GOP leaders, recently wrote. The Senate s lethargic kickoff only has one comparison this century, back in 2011, when the reverse situation took place. Back then Democrats lost the House but held on to the Senate while Barack Obama was in the White House. Harry M. Reid (D-Nev.), then the Senate majority leader, slowed the Senate to a crawl. They only cast 46 votes in the first quarter of the year, well under the brisk pace Reid set to start the previous new Congresses in 2007 and 2009. Eventually Reid focused on so-called messaging bills, those that were designed to fail but also put GOP senators on the record on issues that might hurt their elections. Now, McConnell seems headed in the same direction. He will soon force a vote on the Green New Deal, the emerging proposal from liberal Democrats to combat climate change that has divided their party. McConnell is hoping this go-slow approach follows Reid s success, as Democrats gained Senate seats in the 2012 elections as Obama won reelection. Read more from Paul Kane s archive, follow him on Twitter or subscribe to his updates on Facebook.   '"
      ]
     },
     "execution_count": 69,
     "metadata": {},
     "output_type": "execute_result"
    }
   ],
   "source": [
    "text = get_article(url)\n",
    "text"
   ]
  },
  {
   "cell_type": "code",
   "execution_count": null,
   "metadata": {},
   "outputs": [],
   "source": [
    "\n"
   ]
  },
  {
   "cell_type": "code",
   "execution_count": 76,
   "metadata": {},
   "outputs": [
    {
     "data": {
      "text/plain": [
       "['paul',\n",
       " 'kane',\n",
       " 'paul',\n",
       " 'kane',\n",
       " 'senior',\n",
       " 'congressional',\n",
       " 'correspondent',\n",
       " 'columnist',\n",
       " 'email',\n",
       " 'bio']"
      ]
     },
     "execution_count": 76,
     "metadata": {},
     "output_type": "execute_result"
    }
   ],
   "source": [
    "## lower,\n",
    "words = [ term.lower() for term in word_tokenize(text) ]\n",
    "\n",
    "## remove stopwords,\n",
    "_stopwords = set(stopwords.words('english') + list(punctuation))\n",
    "words = [ word for word in words if word not in _stopwords ]\n",
    "words[:10]"
   ]
  },
  {
   "cell_type": "code",
   "execution_count": null,
   "metadata": {},
   "outputs": [],
   "source": [
    "\n"
   ]
  },
  {
   "cell_type": "code",
   "execution_count": 82,
   "metadata": {},
   "outputs": [],
   "source": [
    "from nltk.probability import FreqDist\n",
    "from heapq import nlargest, nsmallest"
   ]
  },
  {
   "cell_type": "code",
   "execution_count": 85,
   "metadata": {},
   "outputs": [
    {
     "data": {
      "text/plain": [
       "['senate',\n",
       " 'mcconnell',\n",
       " 'democrats',\n",
       " 'trump',\n",
       " 'house',\n",
       " 'vote',\n",
       " 'year',\n",
       " 'republicans',\n",
       " 'first',\n",
       " 'bill']"
      ]
     },
     "execution_count": 85,
     "metadata": {},
     "output_type": "execute_result"
    }
   ],
   "source": [
    "freq = FreqDist(words)\n",
    "nlargest(10, freq, key=freq.get)"
   ]
  },
  {
   "cell_type": "code",
   "execution_count": null,
   "metadata": {},
   "outputs": [],
   "source": [
    "\n"
   ]
  },
  {
   "cell_type": "code",
   "execution_count": 86,
   "metadata": {},
   "outputs": [],
   "source": [
    "from collections import defaultdict"
   ]
  },
  {
   "cell_type": "code",
   "execution_count": 92,
   "metadata": {},
   "outputs": [],
   "source": [
    "ranking = defaultdict(int)\n",
    "\n",
    "sents = sent_tokenize(text)\n",
    "for i, sent in enumerate(sents):\n",
    "    for w in word_tokenize(sent.lower()):\n",
    "        if w in freq:\n",
    "            ranking[i] += freq[w]"
   ]
  },
  {
   "cell_type": "code",
   "execution_count": 93,
   "metadata": {},
   "outputs": [
    {
     "data": {
      "text/plain": [
       "defaultdict(int,\n",
       "            {0: 66,\n",
       "             1: 95,\n",
       "             2: 70,\n",
       "             3: 52,\n",
       "             4: 41,\n",
       "             5: 64,\n",
       "             6: 42,\n",
       "             7: 30,\n",
       "             8: 56,\n",
       "             9: 8,\n",
       "             10: 77,\n",
       "             11: 6,\n",
       "             12: 19,\n",
       "             13: 26,\n",
       "             14: 11,\n",
       "             15: 42,\n",
       "             16: 19,\n",
       "             17: 42,\n",
       "             18: 39,\n",
       "             19: 33,\n",
       "             20: 51,\n",
       "             21: 35,\n",
       "             22: 29,\n",
       "             23: 32,\n",
       "             24: 18,\n",
       "             25: 21,\n",
       "             26: 58,\n",
       "             27: 30,\n",
       "             28: 62,\n",
       "             29: 104,\n",
       "             30: 76,\n",
       "             31: 34,\n",
       "             32: 50,\n",
       "             33: 52,\n",
       "             34: 39,\n",
       "             35: 29,\n",
       "             36: 14,\n",
       "             37: 33,\n",
       "             38: 57,\n",
       "             39: 14})"
      ]
     },
     "execution_count": 93,
     "metadata": {},
     "output_type": "execute_result"
    }
   ],
   "source": [
    "## the sum of freq of all the terms in a sent,\n",
    "ranking"
   ]
  },
  {
   "cell_type": "code",
   "execution_count": 98,
   "metadata": {},
   "outputs": [
    {
     "data": {
      "text/plain": [
       "'When senators return Monday night for a vote on a judicial nominee, it will be just their 50th roll call of the year, and with only a couple of other votes likely for the week, the Senate will hit the three-month mark of 2019 about 50 percent behind the pace that Majority Leader Mitch McConnell (R-Ky.) set in early 2017 after President Trump took office. This is your fault : GOP senators clash over shutdown inside private luncheon With Democrats taking over the House, McConnell lowered expectations for this year s legislative output and reset his key priority of confirming Trump s nominees to the federal courts. Tillis s reversal sums up state of Senate Republicans   few willing to cross Trump Some GOP strategists are warning that Republicans need a broader agenda on domestic policy issues or else they will remain in the House minority and imperil their Senate majority next year. The ability of House and Senate Republicans to offer a positive agenda that addresses people s kitchen table priorities, from jobs, wages and now retirement fears to health care concerns, could well be the deciding factor in who controls the next Congress,  David Winston, a Republican pollster who advises congressional GOP leaders, recently wrote.'"
      ]
     },
     "execution_count": 98,
     "metadata": {},
     "output_type": "execute_result"
    }
   ],
   "source": [
    "sents_idx = nlargest(4, ranking, key = ranking.get)\n",
    "\n",
    "' '.join(\n",
    "    [ sents[i] for i in sorted(sents_idx) ])"
   ]
  },
  {
   "cell_type": "code",
   "execution_count": null,
   "metadata": {},
   "outputs": [],
   "source": [
    "\n"
   ]
  },
  {
   "cell_type": "code",
   "execution_count": 103,
   "metadata": {},
   "outputs": [],
   "source": [
    "## final def,\n",
    "def summarize_article(text, n):\n",
    "    ''' summarize the given text with the best n sentences. '''\n",
    "    \n",
    "    sents = sent_tokenize(text)\n",
    "    assert n <= len(sents)\n",
    "    \n",
    "    word_sent = word_tokenize(text.lower())\n",
    "    \n",
    "    _stopwords = set(stopwords.words('english') + list(punctuation))\n",
    "    words = [ word for word in word_sent if word not in _stopwords ]\n",
    "    \n",
    "    freq = FreqDist(words)\n",
    "    \n",
    "    ranking = defaultdict(int)\n",
    "    \n",
    "    sents = sent_tokenize(text)\n",
    "    for i, sent in enumerate(sents):\n",
    "        for w in word_tokenize(sent.lower()):\n",
    "            if w in freq:\n",
    "                ranking[i] += freq[w]\n",
    "\n",
    "    sents_idx = nlargest(n, ranking, key = ranking.get)\n",
    "    return [ sents[i] for i in sorted(sents_idx) ]"
   ]
  },
  {
   "cell_type": "code",
   "execution_count": 104,
   "metadata": {},
   "outputs": [
    {
     "data": {
      "text/plain": [
       "['When senators return Monday night for a vote on a judicial nominee, it will be just their 50th roll call of the year, and with only a couple of other votes likely for the week, the Senate will hit the three-month mark of 2019 about 50 percent behind the pace that Majority Leader Mitch McConnell (R-Ky.) set in early 2017 after President Trump took office.',\n",
       " 'This is your fault : GOP senators clash over shutdown inside private luncheon With Democrats taking over the House, McConnell lowered expectations for this year s legislative output and reset his key priority of confirming Trump s nominees to the federal courts.',\n",
       " 'Tillis s reversal sums up state of Senate Republicans   few willing to cross Trump Some GOP strategists are warning that Republicans need a broader agenda on domestic policy issues or else they will remain in the House minority and imperil their Senate majority next year.']"
      ]
     },
     "execution_count": 104,
     "metadata": {},
     "output_type": "execute_result"
    }
   ],
   "source": [
    "summarize_article(text, 3)"
   ]
  },
  {
   "cell_type": "code",
   "execution_count": null,
   "metadata": {},
   "outputs": [],
   "source": [
    "\n"
   ]
  },
  {
   "cell_type": "code",
   "execution_count": null,
   "metadata": {},
   "outputs": [],
   "source": []
  },
  {
   "cell_type": "code",
   "execution_count": null,
   "metadata": {},
   "outputs": [],
   "source": []
  },
  {
   "cell_type": "code",
   "execution_count": null,
   "metadata": {},
   "outputs": [],
   "source": []
  }
 ],
 "metadata": {
  "kernelspec": {
   "display_name": "Python 3",
   "language": "python",
   "name": "python3"
  },
  "language_info": {
   "codemirror_mode": {
    "name": "ipython",
    "version": 3
   },
   "file_extension": ".py",
   "mimetype": "text/x-python",
   "name": "python",
   "nbconvert_exporter": "python",
   "pygments_lexer": "ipython3",
   "version": "3.6.4"
  }
 },
 "nbformat": 4,
 "nbformat_minor": 2
}
