{
 "cells": [
  {
   "cell_type": "code",
   "execution_count": null,
   "metadata": {},
   "outputs": [],
   "source": [
    "import numpy as np\n",
    "import random\n",
    "\n",
    "from sklearn import datasets\n",
    "\n",
    "import matplotlib.pyplot as plt\n",
    "import seaborn as sns\n",
    "\n",
    "sns.set()"
   ]
  },
  {
   "cell_type": "code",
   "execution_count": null,
   "metadata": {},
   "outputs": [],
   "source": []
  },
  {
   "cell_type": "code",
   "execution_count": null,
   "metadata": {},
   "outputs": [],
   "source": [
    "## 2d,"
   ]
  },
  {
   "cell_type": "code",
   "execution_count": null,
   "metadata": {},
   "outputs": [],
   "source": [
    "def pp_plt(cost, thetas=None):\n",
    "\n",
    "    x = np.linspace(-10, 10, 100*10*2)\n",
    "    y = [ cost(i) for i in x ]\n",
    "\n",
    "    plt.plot(x, y)\n",
    "    \n",
    "    if not thetas == None:\n",
    "        \n",
    "        for theta in thetas:\n",
    "            plt.scatter(theta, cost(theta), color='r')\n",
    "    \n",
    "    plt.show()\n",
    "\n",
    "theta = 3\n",
    "learning_rate = .1\n",
    "\n",
    "cost = lambda x: 5*x + x**2\n",
    "derivative = lambda x: 5 + 2*(x**1)\n",
    "\n",
    "history = [ theta ]\n",
    "for iteration in range(25):\n",
    "    theta = theta - ( learning_rate * derivative(theta) )\n",
    "    history.append(theta)\n",
    "\n",
    "pp_plt(cost, history)\n",
    "print('min:', theta)"
   ]
  },
  {
   "cell_type": "code",
   "execution_count": null,
   "metadata": {},
   "outputs": [],
   "source": [
    "import matplotlib.pyplot as plt\n",
    "from mpl_toolkits.mplot3d import Axes3D"
   ]
  },
  {
   "cell_type": "code",
   "execution_count": null,
   "metadata": {},
   "outputs": [],
   "source": [
    "## 3d,"
   ]
  },
  {
   "cell_type": "code",
   "execution_count": null,
   "metadata": {},
   "outputs": [],
   "source": [
    "def pp_plt3(history):\n",
    "    fig = plt.figure()\n",
    "    ax = plt.axes(projection='3d')\n",
    "\n",
    "    x1 = np.linspace(-10, 10, 100*10)\n",
    "    x2 = np.linspace(-10, 10, 100*10)\n",
    "\n",
    "    X, Y = np.meshgrid(x1, x2)\n",
    "    Z = X**2 + Y**2\n",
    "    ax.contour3D(X, Y, Z, 50, cmap='binary')\n",
    "    \n",
    "    Xs = np.matrix(history)[:,0].T.tolist()[0]\n",
    "    Ys = np.matrix(history)[:,1].T.tolist()[0]\n",
    "    ax.scatter3D(Xs, Ys, [np.array(Xs)**2 + np.array(Ys)**2])"
   ]
  },
  {
   "cell_type": "code",
   "execution_count": null,
   "metadata": {},
   "outputs": [],
   "source": []
  },
  {
   "cell_type": "code",
   "execution_count": null,
   "metadata": {},
   "outputs": [],
   "source": [
    "theta = np.array([ -10, -10 ])\n",
    "y = np.sum(np.square(theta))\n",
    "\n",
    "theta, y"
   ]
  },
  {
   "cell_type": "code",
   "execution_count": null,
   "metadata": {},
   "outputs": [],
   "source": [
    "theta = np.array([ -10, -10 ])\n",
    "y = np.sum(np.square(theta))\n",
    "\n",
    "theta, y\n",
    "\n",
    "learning_rate = .01\n",
    "cost = lambda X: np.sum(np.square(X))\n",
    "\n",
    "derivative_x1 = lambda X: 2*X[0] + 0\n",
    "derivative_x2 = lambda X: 0 + 2*X[1]\n",
    "\n",
    "history = [ theta ]\n",
    "for iteration in range(10000):\n",
    "    \n",
    "    derivatives = np.array([\n",
    "        learning_rate * derivative_x1(theta),\n",
    "        learning_rate * derivative_x2(theta)\n",
    "    ])\n",
    "    \n",
    "    theta = theta - derivatives \n",
    "    history.append(theta)"
   ]
  },
  {
   "cell_type": "code",
   "execution_count": null,
   "metadata": {},
   "outputs": [],
   "source": [
    "sns.reset_orig()\n",
    "\n",
    "pp_plt3(\n",
    "    np.matrix(history))\n",
    "print('min:', theta)"
   ]
  },
  {
   "cell_type": "code",
   "execution_count": null,
   "metadata": {},
   "outputs": [],
   "source": []
  },
  {
   "cell_type": "code",
   "execution_count": null,
   "metadata": {},
   "outputs": [],
   "source": [
    "# y = mx + b\n",
    "\n",
    "# 1/m sum ( y - ( mx + b ) )^2\n",
    "\n",
    "## partial by m = 2/m * (y - (mx + b) ) * -x\n",
    "## partial by b = 2/m * (y - (mx + b) ) * -1\n",
    "\n",
    "def cost (m, b, X, y):\n",
    "    return np.mean( np.square( y - (m*X + b) ) )"
   ]
  },
  {
   "cell_type": "code",
   "execution_count": null,
   "metadata": {},
   "outputs": [],
   "source": [
    "def pp_plt(X, y, b, m, iteration):\n",
    "    \n",
    "    _ = plt.title(iteration)\n",
    "    _ = plt.scatter(X, y)\n",
    "    \n",
    "    # regression stats,\n",
    "    _ = plt.plot(X, X*m_gradient + b_gradient, color='r')\n",
    "    \n",
    "    plt.show()\n",
    "    \n",
    "    ## print stats,\n",
    "    print('m:', m_gradient, 'b:', b_gradient, 'cost:', cost(m, b, X, y))"
   ]
  },
  {
   "cell_type": "raw",
   "metadata": {},
   "source": [
    "X, y = datasets.make_regression()\n",
    "X = np.sum(X, axis=1)\n",
    "\n",
    "plt.scatter(X, y)\n",
    "plt.show()"
   ]
  },
  {
   "cell_type": "code",
   "execution_count": null,
   "metadata": {
    "scrolled": false
   },
   "outputs": [],
   "source": [
    "n = len(y)\n",
    "learning_rate = 0.001\n",
    "\n",
    "np.random.seed(11)\n",
    "\n",
    "## initial gradient positions,\n",
    "m_gradient = np.random.rand() \n",
    "b_gradient = np.random.rand()\n",
    "\n",
    "pp_plt(X, y, b_gradient, m_gradient, 1)\n",
    "    \n",
    "for iteration in range(2, 10):\n",
    "\n",
    "    new_m_gradient = 0\n",
    "    new_b_gradient = 0\n",
    "\n",
    "    for i in range(n):\n",
    "        x_i = X[i]\n",
    "        y_i = y[i]\n",
    "\n",
    "        y_hat = m_gradient*x_i + b_gradient\n",
    "        new_m_gradient +=  ( (2/n) * (y_i - y_hat) * (-1) * x_i )\n",
    "        new_b_gradient +=  ( (2/n) * (y_i - y_hat) * (-1) )\n",
    "\n",
    "    b_gradient = b_gradient - (learning_rate * new_b_gradient)\n",
    "    m_gradient = m_gradient - (learning_rate * new_m_gradient)\n",
    "    \n",
    "    pp_plt(X, y, b_gradient, m_gradient, iteration)\n",
    "    \n",
    "    "
   ]
  },
  {
   "cell_type": "code",
   "execution_count": null,
   "metadata": {},
   "outputs": [],
   "source": []
  },
  {
   "cell_type": "code",
   "execution_count": null,
   "metadata": {},
   "outputs": [],
   "source": []
  }
 ],
 "metadata": {
  "kernelspec": {
   "display_name": "Python 3",
   "language": "python",
   "name": "python3"
  },
  "language_info": {
   "codemirror_mode": {
    "name": "ipython",
    "version": 3
   },
   "file_extension": ".py",
   "mimetype": "text/x-python",
   "name": "python",
   "nbconvert_exporter": "python",
   "pygments_lexer": "ipython3",
   "version": "3.6.4"
  }
 },
 "nbformat": 4,
 "nbformat_minor": 2
}
