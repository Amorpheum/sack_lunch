{
 "cells": [
  {
   "cell_type": "code",
   "execution_count": 1,
   "metadata": {},
   "outputs": [],
   "source": [
    "import math\n",
    "import random\n",
    "import numpy as np\n",
    "\n",
    "from sklearn import datasets\n",
    "\n",
    "import matplotlib.pyplot as plt\n",
    "import seaborn as sns\n",
    "\n",
    "sns.set()"
   ]
  },
  {
   "cell_type": "code",
   "execution_count": null,
   "metadata": {},
   "outputs": [],
   "source": []
  },
  {
   "cell_type": "code",
   "execution_count": 2,
   "metadata": {},
   "outputs": [],
   "source": [
    "def euclidean_distance(p, q):    \n",
    "    if type(p) == int:\n",
    "        p = [ p ]\n",
    "    if type(q) == int:\n",
    "        q = [ q ]\n",
    "    \n",
    "    assert len(p) == len(q)\n",
    "    return math.sqrt( \\\n",
    "        np.sum([ (x1 - x2) ** 2 for x1, x2 in zip(p, q) ]) \\\n",
    "    )\n",
    "\n",
    "def get_k_nearest_neighbors(ti, training_set, k=None):\n",
    "    if k == None:\n",
    "        k = len(training_set)\n",
    "    \n",
    "    assert k >= 0\n",
    "    assert len(training_set) >= k\n",
    "    \n",
    "    return sorted([ \\\n",
    "            ( r, euclidean_distance(ti[:-1], r[:-1]) ) \\\n",
    "            for r in training_set \\\n",
    "        ], key = lambda x: x[1] \\\n",
    "    )[:k]\n",
    "\n",
    "def get_estimate_from_neighbors(test_item, training_set, k=None):\n",
    "    neighbors = get_k_nearest_neighbors( \\\n",
    "                    test_item, training_set, k)\n",
    "\n",
    "    cast_votes = [ \\\n",
    "        int(neighbor[-1]) \\\n",
    "        for neighbor, distance in neighbors ]\n",
    "    \n",
    "    distinct_votes = {}\n",
    "    for vote in cast_votes:\n",
    "        if not vote in distinct_votes.keys():\n",
    "            distinct_votes[vote] = 0\n",
    "        distinct_votes[vote] += 1\n",
    "        \n",
    "    return sorted(distinct_votes.items(), \\\n",
    "                  key=lambda x: x[1], reverse=True)[0][0]\n",
    "\n",
    "def run_iteration(test_set, training_set, k):\n",
    "    results = []\n",
    "    for test_item in test_set:\n",
    "        target = get_estimate_from_neighbors(\n",
    "                     test_item, training_set, k)\n",
    "        \n",
    "        results.append(\n",
    "            (test_item[:-1], test_item[-1], target)\n",
    "        )\n",
    "    \n",
    "    return results"
   ]
  },
  {
   "cell_type": "code",
   "execution_count": null,
   "metadata": {},
   "outputs": [],
   "source": []
  },
  {
   "cell_type": "code",
   "execution_count": 3,
   "metadata": {},
   "outputs": [],
   "source": [
    "random.seed(11)\n",
    "\n",
    "X, y = datasets.load_iris(return_X_y=True)\n",
    "dataset = np.concatenate([X, np.matrix(y).T], axis=1)\n",
    "\n",
    "SPLIT = .7\n",
    "train_set = []; test_set = [];\n",
    "for r in dataset:\n",
    "    row = r.tolist()[0]\n",
    "    if random.random() < SPLIT:\n",
    "        test_set.append(row)\n",
    "        continue\n",
    "    \n",
    "    train_set.append(row)"
   ]
  },
  {
   "cell_type": "code",
   "execution_count": 4,
   "metadata": {},
   "outputs": [],
   "source": [
    "def compute_accuracy(results):\n",
    "    return ( \n",
    "        np.sum([ r[1] == r[2] for r in results ]) / len(results) \n",
    "    ) * 100.0\n",
    "\n",
    "rs = []\n",
    "max_length = len(train_set)\n",
    "for k in range(1, max_length):\n",
    "    accuracy = compute_accuracy(\n",
    "        run_iteration(test_set, train_set, k))\n",
    "    \n",
    "    rs.append(\n",
    "        (k, accuracy)\n",
    "    )"
   ]
  },
  {
   "cell_type": "code",
   "execution_count": null,
   "metadata": {},
   "outputs": [],
   "source": []
  },
  {
   "cell_type": "code",
   "execution_count": 5,
   "metadata": {},
   "outputs": [
    {
     "data": {
      "image/png": "[encoded data removed]",
      "text/plain": [
       "<Figure size 432x288 with 1 Axes>"
      ]
     },
     "metadata": {},
     "output_type": "display_data"
    }
   ],
   "source": [
    "_ = plt.plot([x[0] for x in rs], [x[1] for x in rs])\n",
    "\n",
    "_ = plt.title('accuracy / k')\n",
    "_ = plt.xlabel('k')\n",
    "_ = plt.ylabel('accuracy')\n",
    "\n",
    "plt.show()"
   ]
  },
  {
   "cell_type": "code",
   "execution_count": null,
   "metadata": {},
   "outputs": [],
   "source": []
  },
  {
   "cell_type": "code",
   "execution_count": null,
   "metadata": {},
   "outputs": [],
   "source": []
  },
  {
   "cell_type": "code",
   "execution_count": null,
   "metadata": {},
   "outputs": [],
   "source": []
  }
 ],
 "metadata": {
  "kernelspec": {
   "display_name": "Python 3",
   "language": "python",
   "name": "python3"
  },
  "language_info": {
   "codemirror_mode": {
    "name": "ipython",
    "version": 3
   },
   "file_extension": ".py",
   "mimetype": "text/x-python",
   "name": "python",
   "nbconvert_exporter": "python",
   "pygments_lexer": "ipython3",
   "version": "3.6.4"
  }
 },
 "nbformat": 4,
 "nbformat_minor": 2
}
