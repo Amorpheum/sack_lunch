{
 "cells": [
  {
   "cell_type": "code",
   "execution_count": null,
   "metadata": {},
   "outputs": [],
   "source": [
    "import numpy as np\n",
    "import random\n",
    "\n",
    "import matplotlib.pyplot as plt\n",
    "import seaborn as sns\n",
    "\n",
    "sns.set()"
   ]
  },
  {
   "cell_type": "code",
   "execution_count": null,
   "metadata": {},
   "outputs": [],
   "source": [
    "\n"
   ]
  },
  {
   "cell_type": "code",
   "execution_count": null,
   "metadata": {},
   "outputs": [],
   "source": [
    "def standard_scaler(X):\n",
    "    mu = X.mean()\n",
    "    std = X.std()\n",
    "    return (X - mu) / std\n",
    "\n",
    "X = np.c_[[1]*100, 13.5 * np.random.rand(100, 1)]\n",
    "y = 5 + X[:, 1].reshape((100, 1)) + np.random.randn(100, 1)"
   ]
  },
  {
   "cell_type": "code",
   "execution_count": null,
   "metadata": {},
   "outputs": [],
   "source": [
    "plt.figure(figsize=(10,5))\n",
    "\n",
    "plt.scatter(X[:, 1], y)\n",
    "\n",
    "plt.xlabel('x')\n",
    "plt.ylabel('y')\n",
    "plt.tight_layout()\n",
    "plt.show()"
   ]
  },
  {
   "cell_type": "code",
   "execution_count": null,
   "metadata": {},
   "outputs": [],
   "source": [
    "\n"
   ]
  },
  {
   "cell_type": "code",
   "execution_count": null,
   "metadata": {},
   "outputs": [],
   "source": [
    "## gradient descent (batch)\n",
    "\n",
    "learning_rate = 0.1\n",
    "n_iterations = 200\n",
    "m = X.shape[0]\n",
    "\n",
    "theta = np.random.randn(2, 1)\n",
    "\n",
    "for iteration in range(n_iterations):\n",
    "    gradients = 2/m * X.T.dot(X.dot(theta) - y)\n",
    "    theta -= (learning_rate * gradients)\n",
    "\n",
    "print(theta)"
   ]
  },
  {
   "cell_type": "code",
   "execution_count": null,
   "metadata": {},
   "outputs": [],
   "source": [
    "\n"
   ]
  },
  {
   "cell_type": "code",
   "execution_count": null,
   "metadata": {},
   "outputs": [],
   "source": [
    "## simulated annealing,\n",
    "\n",
    "n_epochs = 200\n",
    "\n",
    "m = 100\n",
    "starting_rate = .01\n",
    "t0 = int(starting_rate * m)\n",
    "t1 = m\n",
    "\n",
    "def get_learning_rate(current_iteration):\n",
    "    return t0 / ( current_iteration + t1 )\n",
    "\n",
    "x_ls = []\n",
    "y_ls = []\n",
    "\n",
    "iteration = 0\n",
    "for epoch in range(n_epochs):\n",
    "    for i in range(m):\n",
    "        x_ls.append(iteration)\n",
    "        y_ls.append(get_learning_rate(iteration))\n",
    "        \n",
    "        iteration+=1\n",
    "        \n",
    "plt.figure(figsize=(15, 10))\n",
    "plt.axhline(.01, color='r', alpha=.5, label='static (.01)')\n",
    "plt.scatter(x_ls, y_ls, marker='.', label='simulated annealing')\n",
    "\n",
    "plt.title('simulated annealing')\n",
    "plt.xlabel('iteration')\n",
    "\n",
    "plt.tight_layout()\n",
    "plt.legend()\n",
    "plt.show()"
   ]
  },
  {
   "cell_type": "code",
   "execution_count": null,
   "metadata": {},
   "outputs": [],
   "source": [
    "\n"
   ]
  },
  {
   "cell_type": "code",
   "execution_count": null,
   "metadata": {},
   "outputs": [],
   "source": [
    "## gradient descent (stochastic)\n",
    "\n",
    "n_epochs = 200\n",
    "\n",
    "m = 100\n",
    "starting_rate = .01\n",
    "t0 = int(starting_rate * m)\n",
    "t1 = m\n",
    "\n",
    "def get_learning_rate(current_iteration):\n",
    "    return t0 / ( current_iteration + t1 )\n",
    "\n",
    "theta = np.random.randn(2, 1)\n",
    "\n",
    "iterations = 0\n",
    "for epoch in range(n_epochs):\n",
    "    for i in range(m):\n",
    "        \n",
    "        ## pick an index,\n",
    "        index = np.random.randint(m)\n",
    "        xi = X[index].reshape((1, 2))\n",
    "        yi = y[index]\n",
    "        \n",
    "        n = len(xi)\n",
    "        gradients = ( (2/n) * xi.T.dot( xi.dot(theta) - yi ) )\n",
    "        theta -= ( \n",
    "            get_learning_rate(iterations) * gradients\n",
    "        )\n",
    "        \n",
    "        iterations += 1\n",
    "\n",
    "print(theta)"
   ]
  },
  {
   "cell_type": "code",
   "execution_count": null,
   "metadata": {},
   "outputs": [],
   "source": [
    "\n"
   ]
  },
  {
   "cell_type": "code",
   "execution_count": null,
   "metadata": {},
   "outputs": [],
   "source": [
    "## gradient descent (mini)\n",
    "\n",
    "mini_batch_size = 5\n",
    "\n",
    "theta = np.random.randn(2, 1)\n",
    "\n",
    "iterations = 0\n",
    "for epoch in range(n_epochs):\n",
    "    for i in range(m):\n",
    "        \n",
    "        indexes = np.random.randint(0, m, mini_batch_size).tolist()\n",
    "        xi = X[indexes]\n",
    "        yi = y[indexes]\n",
    "        \n",
    "        theta -= ( \n",
    "            get_learning_rate(iterations) * (2/len(indexes) * xi.T.dot( xi.dot(theta) - yi )) \n",
    "        )\n",
    "        \n",
    "        iterations += 1\n",
    "\n",
    "print(theta)"
   ]
  },
  {
   "cell_type": "code",
   "execution_count": null,
   "metadata": {},
   "outputs": [],
   "source": [
    "\n"
   ]
  },
  {
   "cell_type": "code",
   "execution_count": null,
   "metadata": {},
   "outputs": [],
   "source": [
    "plt.figure(figsize=(10,5))\n",
    "\n",
    "plt.scatter(X[:,1], y)\n",
    "plt.plot(X[:,1], X.dot(theta), color='red')\n",
    "\n",
    "plt.xlabel('x')\n",
    "plt.ylabel('y')\n",
    "plt.tight_layout()\n",
    "plt.show()"
   ]
  },
  {
   "cell_type": "code",
   "execution_count": null,
   "metadata": {},
   "outputs": [],
   "source": [
    "\n"
   ]
  }
 ],
 "metadata": {
  "kernelspec": {
   "display_name": "Python 3",
   "language": "python",
   "name": "python3"
  }
 },
 "nbformat": 4,
 "nbformat_minor": 2
}
