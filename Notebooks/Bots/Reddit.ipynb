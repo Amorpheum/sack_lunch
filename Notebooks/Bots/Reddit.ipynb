{
 "cells": [
  {
   "cell_type": "code",
   "execution_count": 1,
   "metadata": {},
   "outputs": [],
   "source": [
    "import json\n",
    "import time\n",
    "import math\n",
    "import requests\n",
    "import itertools\n",
    "import numpy as np\n",
    "\n",
    "from datetime import datetime, timedelta"
   ]
  },
  {
   "cell_type": "code",
   "execution_count": null,
   "metadata": {},
   "outputs": [],
   "source": []
  },
  {
   "cell_type": "code",
   "execution_count": 2,
   "metadata": {},
   "outputs": [],
   "source": [
    "def give_me_intervals(start_at, number_of_days_per_interval = 3):\n",
    "    \n",
    "    end_at = math.ceil(datetime.utcnow().timestamp())\n",
    "        \n",
    "    ## 1 day = 86400,\n",
    "    period = (86400 * number_of_days_per_interval)\n",
    "\n",
    "    end = start_at + period\n",
    "    yield (int(start_at), int(end))\n",
    "\n",
    "    padding = 1\n",
    "    while end <= end_at:\n",
    "        start_at = end + padding\n",
    "        end = (start_at - padding) + period\n",
    "        yield int(start_at), int(end)\n",
    "\n",
    "def make_request(uri, max_retries = 5):\n",
    "    def fire_away(uri):\n",
    "        response = requests.get(uri)\n",
    "        assert response.status_code == 200\n",
    "        return json.loads(response.content)\n",
    "\n",
    "    current_tries = 1\n",
    "    while current_tries < max_retries:\n",
    "        try:\n",
    "            response = fire_away(uri)\n",
    "            return response\n",
    "        except:\n",
    "            time.sleep(.150)\n",
    "            current_tries += 1\n",
    "\n",
    "    return fire_away(uri)\n",
    " \n",
    "def pull_posts_for(subreddit, start_at, end_at):\n",
    "    \n",
    "    def map_posts(posts):\n",
    "        return list(map(lambda post: {\n",
    "            'id': post['id'],\n",
    "            'created_utc': post['created_utc'],\n",
    "            'prefix': 't4_'\n",
    "        }, posts))\n",
    "    \n",
    "    SIZE = 500\n",
    "    URI_TEMPLATE = r'https://api.pushshift.io/reddit/search/submission?subreddit={}&after={}&before={}&size={}'\n",
    "    \n",
    "    post_collections = map_posts( \\\n",
    "        make_request( \\\n",
    "            URI_TEMPLATE.format(subreddit, start_at, end_at, SIZE))['data'])\n",
    "\n",
    "    n = len(post_collections)\n",
    "    while n == SIZE:\n",
    "        last = post_collections[-1]\n",
    "        new_start_at = last['created_utc'] - 10\n",
    "        \n",
    "        more_posts = map_posts( \\\n",
    "            make_request( \\\n",
    "                URI_TEMPLATE.format(subreddit, new_start_at, end_at, SIZE))['data'])\n",
    "        \n",
    "        n = len(more_posts)\n",
    "        post_collections.extend(more_posts)\n",
    "\n",
    "    return post_collections"
   ]
  },
  {
   "cell_type": "code",
   "execution_count": null,
   "metadata": {},
   "outputs": [],
   "source": []
  },
  {
   "cell_type": "code",
   "execution_count": null,
   "metadata": {},
   "outputs": [],
   "source": []
  },
  {
   "cell_type": "code",
   "execution_count": 3,
   "metadata": {},
   "outputs": [
    {
     "name": "stdout",
     "output_type": "stream",
     "text": [
      "found: 73\n",
      "unique: 73\n"
     ]
    }
   ],
   "source": [
    "subreddit = 'Siacoin'\n",
    "\n",
    "end_at = math.ceil(datetime.utcnow().timestamp())\n",
    "start_at = math.floor((datetime.utcnow() - timedelta(days=10)).timestamp())\n",
    "\n",
    "posts = pull_posts_for(subreddit, start_at, end_at)\n",
    "\n",
    "print('found:', len(posts))\n",
    "print('unique:', len(np.unique([ post['id'] for post in posts ])))"
   ]
  },
  {
   "cell_type": "code",
   "execution_count": 4,
   "metadata": {},
   "outputs": [
    {
     "data": {
      "text/plain": [
       "[('9t1rp9', 1),\n",
       " ('9t1rsa', 1),\n",
       " ('9t20jv', 1),\n",
       " ('9t24s1', 1),\n",
       " ('9t2amm', 1),\n",
       " ('9t3ch6', 1),\n",
       " ('9t5b9t', 1),\n",
       " ('9t81sz', 1),\n",
       " ('9t8lgq', 1),\n",
       " ('9t8q7v', 1)]"
      ]
     },
     "execution_count": 4,
     "metadata": {},
     "output_type": "execute_result"
    }
   ],
   "source": [
    "## assert no dups,\n",
    "sorted_by_occurence = sorted([ (k, len(list(g))) for k,g in itertools.groupby(posts, lambda x: x['id']) ], key=lambda x: x[1], reverse=True)\n",
    "sorted_by_occurence[:10]"
   ]
  },
  {
   "cell_type": "code",
   "execution_count": 5,
   "metadata": {},
   "outputs": [
    {
     "data": {
      "text/plain": [
       "[{'created_utc': 1541012512, 'id': '9t1rp9', 'prefix': 't4_'},\n",
       " {'created_utc': 1541012528, 'id': '9t1rsa', 'prefix': 't4_'},\n",
       " {'created_utc': 1541014118, 'id': '9t20jv', 'prefix': 't4_'},\n",
       " {'created_utc': 1541014878, 'id': '9t24s1', 'prefix': 't4_'},\n",
       " {'created_utc': 1541015966, 'id': '9t2amm', 'prefix': 't4_'},\n",
       " {'created_utc': 1541022876, 'id': '9t3ch6', 'prefix': 't4_'},\n",
       " {'created_utc': 1541037162, 'id': '9t5b9t', 'prefix': 't4_'},\n",
       " {'created_utc': 1541066089, 'id': '9t81sz', 'prefix': 't4_'},\n",
       " {'created_utc': 1541071914, 'id': '9t8lgq', 'prefix': 't4_'},\n",
       " {'created_utc': 1541073201, 'id': '9t8q7v', 'prefix': 't4_'}]"
      ]
     },
     "execution_count": 5,
     "metadata": {},
     "output_type": "execute_result"
    }
   ],
   "source": [
    "## quick look at the posts,\n",
    "posts[:10]"
   ]
  },
  {
   "cell_type": "code",
   "execution_count": null,
   "metadata": {},
   "outputs": [],
   "source": []
  },
  {
   "cell_type": "code",
   "execution_count": 6,
   "metadata": {},
   "outputs": [],
   "source": [
    "subreddit = 'Siacoin'\n",
    "\n",
    "start_at = math.floor(\\\n",
    "    (datetime.utcnow() - timedelta(days=20)).timestamp())\n",
    "\n",
    "posts = []\n",
    "for interval in give_me_intervals(start_at, 7):\n",
    "    pulled_posts = pull_posts_for(\n",
    "        subreddit, interval[0], interval[1])\n",
    "    \n",
    "    posts.extend(pulled_posts)"
   ]
  },
  {
   "cell_type": "code",
   "execution_count": null,
   "metadata": {},
   "outputs": [],
   "source": []
  },
  {
   "cell_type": "code",
   "execution_count": 7,
   "metadata": {},
   "outputs": [],
   "source": [
    "import praw\n",
    "\n",
    "config = {\n",
    "    \"username\" : \"*\",\n",
    "    \"client_id\" : \"*\",\n",
    "    \"client_secret\" : \"*\",\n",
    "    \"user_agent\" : \"*\"\n",
    "}\n",
    "\n",
    "posts_from_reddit = []\n",
    "comments_from_reddit = []\n",
    "\n",
    "reddit = praw.Reddit(client_id = config['client_id'], \\\n",
    "                     client_secret = config['client_secret'], \\\n",
    "                     user_agent = config['user_agent'])"
   ]
  },
  {
   "cell_type": "code",
   "execution_count": 8,
   "metadata": {},
   "outputs": [],
   "source": [
    "TIMEOUT_AFTER_COMMENT_IN_SECS = .250\n",
    "\n",
    "for submission_id in np.unique([ post['id'] for post in posts ]):\n",
    "    submission = reddit.submission(id=submission_id)\n",
    "\n",
    "    posts_from_reddit.append(submission)\n",
    "\n",
    "    submission.comments.replace_more(limit=None)\n",
    "    for comment in submission.comments.list():\n",
    "        comments_from_reddit.append(comment)\n",
    "        \n",
    "        if TIMEOUT_AFTER_COMMENT_IN_SECS > 0:\n",
    "            time.sleep(TIMEOUT_AFTER_COMMENT_IN_SECS)"
   ]
  },
  {
   "cell_type": "code",
   "execution_count": 9,
   "metadata": {},
   "outputs": [
    {
     "data": {
      "text/plain": [
       "259"
      ]
     },
     "execution_count": 9,
     "metadata": {},
     "output_type": "execute_result"
    }
   ],
   "source": [
    "len(posts_from_reddit)"
   ]
  },
  {
   "cell_type": "code",
   "execution_count": 10,
   "metadata": {},
   "outputs": [
    {
     "data": {
      "text/plain": [
       "707"
      ]
     },
     "execution_count": 10,
     "metadata": {},
     "output_type": "execute_result"
    }
   ],
   "source": [
    "len(comments_from_reddit)"
   ]
  },
  {
   "cell_type": "code",
   "execution_count": null,
   "metadata": {},
   "outputs": [],
   "source": []
  }
 ],
 "metadata": {
  "kernelspec": {
   "display_name": "Python 3",
   "language": "python",
   "name": "python3"
  },
  "language_info": {
   "codemirror_mode": {
    "name": "ipython",
    "version": 3
   },
   "file_extension": ".py",
   "mimetype": "text/x-python",
   "name": "python",
   "nbconvert_exporter": "python",
   "pygments_lexer": "ipython3",
   "version": "3.6.4"
  }
 },
 "nbformat": 4,
 "nbformat_minor": 2
}
