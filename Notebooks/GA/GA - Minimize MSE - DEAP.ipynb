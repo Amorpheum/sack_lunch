{
 "cells": [
  {
   "cell_type": "code",
   "execution_count": null,
   "metadata": {},
   "outputs": [],
   "source": [
    "### AWFUL ATTEMPT AT MIN. MSE."
   ]
  },
  {
   "cell_type": "code",
   "execution_count": null,
   "metadata": {},
   "outputs": [],
   "source": []
  },
  {
   "cell_type": "code",
   "execution_count": 88,
   "metadata": {},
   "outputs": [],
   "source": [
    "import random\n",
    "import numpy as np\n",
    "\n",
    "from sklearn import datasets\n",
    "\n",
    "from deap import base, creator, tools"
   ]
  },
  {
   "cell_type": "code",
   "execution_count": null,
   "metadata": {},
   "outputs": [],
   "source": []
  },
  {
   "cell_type": "code",
   "execution_count": 89,
   "metadata": {},
   "outputs": [],
   "source": [
    "X, y = datasets.make_regression()\n",
    "X = np.sum(X, axis=1)"
   ]
  },
  {
   "cell_type": "code",
   "execution_count": null,
   "metadata": {},
   "outputs": [],
   "source": []
  },
  {
   "cell_type": "code",
   "execution_count": 90,
   "metadata": {},
   "outputs": [],
   "source": [
    "def get_value(individual):\n",
    "    def to_int(b):\n",
    "        return int(b, 2)\n",
    "\n",
    "    t = individual[:8]\n",
    "    b = individual[8:]\n",
    "\n",
    "    t_i = float(to_int(\n",
    "        ''.join((str(xi) for xi in t))))\n",
    "\n",
    "    b_i = float(to_int(\n",
    "        ''.join((str(xi) for xi in b))))\n",
    "\n",
    "    if b_i == 0:\n",
    "        return t_i\n",
    "\n",
    "    return t_i + (1/b_i)\n",
    "    \n",
    "def COST(individual):\n",
    "        \n",
    "    m = get_value(individual[:16])\n",
    "    b = get_value(individual[16:])\n",
    "    \n",
    "    y_hat = m*X + b\n",
    "    return np.mean( np.square( y - y_hat ) ),"
   ]
  },
  {
   "cell_type": "code",
   "execution_count": null,
   "metadata": {},
   "outputs": [],
   "source": []
  },
  {
   "cell_type": "code",
   "execution_count": 91,
   "metadata": {},
   "outputs": [
    {
     "name": "stderr",
     "output_type": "stream",
     "text": [
      "C:\\Users\\dmpas\\Anaconda3\\lib\\site-packages\\deap\\creator.py:141: RuntimeWarning: A class named 'FitnessMin' has already been created and it will be overwritten. Consider deleting previous creation of that class or rename it.\n",
      "  RuntimeWarning)\n",
      "C:\\Users\\dmpas\\Anaconda3\\lib\\site-packages\\deap\\creator.py:141: RuntimeWarning: A class named 'Individual' has already been created and it will be overwritten. Consider deleting previous creation of that class or rename it.\n",
      "  RuntimeWarning)\n"
     ]
    }
   ],
   "source": [
    "creator.create(\"FitnessMin\", base.Fitness, weights=(-1.0,))\n",
    "creator.create(\"Individual\", list, fitness=creator.FitnessMin)"
   ]
  },
  {
   "cell_type": "code",
   "execution_count": null,
   "metadata": {},
   "outputs": [],
   "source": []
  },
  {
   "cell_type": "code",
   "execution_count": 92,
   "metadata": {},
   "outputs": [],
   "source": [
    "tbx = base.Toolbox()"
   ]
  },
  {
   "cell_type": "code",
   "execution_count": 93,
   "metadata": {},
   "outputs": [],
   "source": [
    "INDIVIDUAL_SIZE = 32\n",
    "\n",
    "tbx.register(\"attr_int\", random.randint, 0, 1)\n",
    "tbx.register(\"individual\", \n",
    "             tools.initRepeat, \n",
    "             creator.Individual,\n",
    "             tbx.attr_int, \n",
    "             n=INDIVIDUAL_SIZE)\n",
    "\n",
    "tbx.register(\"population\", tools.initRepeat, list, tbx.individual)"
   ]
  },
  {
   "cell_type": "code",
   "execution_count": 94,
   "metadata": {},
   "outputs": [],
   "source": [
    "tbx.register(\"evaluate\", COST)\n",
    "\n",
    "def CROSSOVER(ind1, ind2):\n",
    "    i1, i2 = tools.cxOnePoint(ind1[:8], ind2[:8])\n",
    "    i3, i4 = tools.cxOnePoint(ind1[8:], ind2[8:])\n",
    "    \n",
    "    return creator.Individual(np.concatenate((i1, i3))), \\\n",
    "        creator.Individual(np.concatenate((i2, i4)))\n",
    "    \n",
    "\n",
    "tbx.register(\"mate\", CROSSOVER)\n",
    "tbx.register(\"mutate\", tools.mutFlipBit, indpb=0.5)\n",
    "tbx.register(\"select\", tools.selTournament, tournsize=5)"
   ]
  },
  {
   "cell_type": "code",
   "execution_count": null,
   "metadata": {},
   "outputs": [],
   "source": []
  },
  {
   "cell_type": "code",
   "execution_count": 95,
   "metadata": {},
   "outputs": [],
   "source": [
    "def set_fitness(population):\n",
    "    fitnesses = [ \n",
    "        (individual, tbx.evaluate(individual)) \n",
    "        for individual in population \n",
    "    ]\n",
    "\n",
    "    for individual, fitness in fitnesses:\n",
    "        individual.fitness.values = fitness\n",
    "        \n",
    "def pull_stats(population, iteration=1):\n",
    "    fitnesses = [ individual.fitness.values[0] for individual in population ]\n",
    "    return {\n",
    "        'i': iteration,\n",
    "        'mu': np.mean(fitnesses),\n",
    "        'std': np.std(fitnesses),\n",
    "        'max': np.max(fitnesses),\n",
    "        'min': np.min(fitnesses)\n",
    "    }"
   ]
  },
  {
   "cell_type": "code",
   "execution_count": null,
   "metadata": {},
   "outputs": [],
   "source": []
  },
  {
   "cell_type": "code",
   "execution_count": 96,
   "metadata": {},
   "outputs": [],
   "source": [
    "## create random population,\n",
    "population = tbx.population(n=200)\n",
    "\n",
    "## set fitness,\n",
    "set_fitness(population)"
   ]
  },
  {
   "cell_type": "code",
   "execution_count": null,
   "metadata": {},
   "outputs": [],
   "source": []
  },
  {
   "cell_type": "code",
   "execution_count": 97,
   "metadata": {},
   "outputs": [],
   "source": [
    "## globals,\n",
    "stats = []"
   ]
  },
  {
   "cell_type": "code",
   "execution_count": 98,
   "metadata": {},
   "outputs": [],
   "source": [
    "iteration = 1\n",
    "while iteration < 500:\n",
    "    \n",
    "    current_population = list(map(tbx.clone, population))\n",
    "    \n",
    "    offspring = []\n",
    "    for _ in range(50):\n",
    "        i1, i2 = np.random.choice(range(len(population)), size=2, replace=False)\n",
    "\n",
    "        offspring1, offspring2 = \\\n",
    "            tbx.mate(population[i1], population[i2])\n",
    "\n",
    "        offspring.append(tbx.mutate(offspring1)[0])\n",
    "        offspring.append(tbx.mutate(offspring2)[0])  \n",
    "    \n",
    "    for child in offspring:\n",
    "        current_population.append(child)\n",
    "\n",
    "    ## reset fitness,\n",
    "    set_fitness(current_population)\n",
    "\n",
    "    population[:] = tbx.select(current_population, len(population))\n",
    "    \n",
    "    ## set fitness on individuals in the population,\n",
    "    stats.append(\n",
    "        pull_stats(population, iteration))\n",
    "    \n",
    "    iteration += 1"
   ]
  },
  {
   "cell_type": "code",
   "execution_count": null,
   "metadata": {},
   "outputs": [],
   "source": []
  },
  {
   "cell_type": "code",
   "execution_count": 99,
   "metadata": {},
   "outputs": [],
   "source": [
    "import seaborn as sns\n",
    "import matplotlib.pyplot as plt\n",
    "\n",
    "sns.set()"
   ]
  },
  {
   "cell_type": "code",
   "execution_count": 100,
   "metadata": {},
   "outputs": [
    {
     "data": {
      "image/png": "[encoded data removed]",
      "text/plain": [
       "<Figure size 432x288 with 1 Axes>"
      ]
     },
     "metadata": {},
     "output_type": "display_data"
    }
   ],
   "source": [
    "_ = plt.scatter(range(1, len(stats)+1), [ s['min'] for s in stats ], marker='.')\n",
    "\n",
    "_ = plt.title('average fitness per iteration')\n",
    "_ = plt.xlabel('iterations')\n",
    "_ = plt.ylabel('fitness')\n",
    "\n",
    "plt.show()"
   ]
  },
  {
   "cell_type": "code",
   "execution_count": null,
   "metadata": {},
   "outputs": [],
   "source": []
  },
  {
   "cell_type": "code",
   "execution_count": 101,
   "metadata": {},
   "outputs": [],
   "source": [
    "def pp_plt(X, y, b, m):\n",
    "    \n",
    "    _ = plt.scatter(X, y)\n",
    "    \n",
    "    # regression stats,\n",
    "    _ = plt.plot(X, X*m + b, color='r')\n",
    "    \n",
    "    plt.show()"
   ]
  },
  {
   "cell_type": "code",
   "execution_count": 102,
   "metadata": {},
   "outputs": [],
   "source": [
    "best_individuals = sorted([ \n",
    "    (i, individual, get_value(individual)) \n",
    "    for i, individual in enumerate(population) \n",
    "][:10], key=lambda x: x[1], reverse=False)"
   ]
  },
  {
   "cell_type": "code",
   "execution_count": 103,
   "metadata": {},
   "outputs": [
    {
     "data": {
      "image/png": "[encoded data removed]",
      "text/plain": [
       "<Figure size 432x288 with 1 Axes>"
      ]
     },
     "metadata": {},
     "output_type": "display_data"
    },
    {
     "name": "stdout",
     "output_type": "stream",
     "text": [
      "m: 2.006666666666667 b: 1.0116279069767442\n"
     ]
    }
   ],
   "source": [
    "m = get_value(best_individuals[0][1][:16])\n",
    "b = get_value(best_individuals[0][1][16:])\n",
    "\n",
    "pp_plt(X, y, b, m)\n",
    "\n",
    "print('m:', m, 'b:', b)"
   ]
  },
  {
   "cell_type": "code",
   "execution_count": 104,
   "metadata": {},
   "outputs": [
    {
     "data": {
      "text/plain": [
       "(13190.762971339102,)"
      ]
     },
     "execution_count": 104,
     "metadata": {},
     "output_type": "execute_result"
    }
   ],
   "source": [
    "COST(best_individuals[0][1])"
   ]
  },
  {
   "cell_type": "code",
   "execution_count": null,
   "metadata": {},
   "outputs": [],
   "source": []
  }
 ],
 "metadata": {
  "kernelspec": {
   "display_name": "Python 3",
   "language": "python",
   "name": "python3"
  },
  "language_info": {
   "codemirror_mode": {
    "name": "ipython",
    "version": 3
   },
   "file_extension": ".py",
   "mimetype": "text/x-python",
   "name": "python",
   "nbconvert_exporter": "python",
   "pygments_lexer": "ipython3",
   "version": "3.6.4"
  }
 },
 "nbformat": 4,
 "nbformat_minor": 2
}
