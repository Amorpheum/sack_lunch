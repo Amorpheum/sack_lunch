{
 "cells": [
  {
   "cell_type": "markdown",
   "metadata": {},
   "source": [
    "### Chapter 6 from “Genetic Algorithms and Investment Strategies” by Richard Bauer Jr\n",
    "\n",
    "---"
   ]
  },
  {
   "cell_type": "code",
   "execution_count": 1,
   "metadata": {},
   "outputs": [],
   "source": [
    "import random\n",
    "import numpy as np\n",
    "\n",
    "from deap import base, creator, tools"
   ]
  },
  {
   "cell_type": "code",
   "execution_count": 2,
   "metadata": {},
   "outputs": [],
   "source": [
    "def EOQ(individual):\n",
    "    \n",
    "    def to_int(b):\n",
    "        return int(b, 2)\n",
    "    \n",
    "    O = 350000\n",
    "    T = 600000\n",
    "    \n",
    "    i = to_int(\n",
    "        ''.join((str(xi) for xi in individual)))\n",
    "    \n",
    "    if i == 0:\n",
    "        return (-1)*O\n",
    "    \n",
    "    f = round((20000 / i) * 6000, 0)\n",
    "    v = (i * 6) / 2\n",
    "    \n",
    "    return T - ( (f + v) + (O) ),"
   ]
  },
  {
   "cell_type": "code",
   "execution_count": null,
   "metadata": {},
   "outputs": [],
   "source": []
  },
  {
   "cell_type": "code",
   "execution_count": 3,
   "metadata": {},
   "outputs": [],
   "source": [
    "creator.create(\"FitnessMax\", base.Fitness, weights=(1.0,))\n",
    "creator.create(\"Individual\", list, fitness=creator.FitnessMax)"
   ]
  },
  {
   "cell_type": "code",
   "execution_count": null,
   "metadata": {},
   "outputs": [],
   "source": []
  },
  {
   "cell_type": "code",
   "execution_count": 4,
   "metadata": {},
   "outputs": [],
   "source": [
    "tbx = base.Toolbox()"
   ]
  },
  {
   "cell_type": "code",
   "execution_count": 5,
   "metadata": {},
   "outputs": [],
   "source": [
    "INDIVIDUAL_SIZE = 20\n",
    "\n",
    "tbx.register(\"attr_int\", random.randint, 0, 1)\n",
    "tbx.register(\"individual\", \n",
    "             tools.initRepeat, \n",
    "             creator.Individual,\n",
    "             tbx.attr_int, \n",
    "             n=INDIVIDUAL_SIZE)\n",
    "\n",
    "tbx.register(\"population\", tools.initRepeat, list, tbx.individual)"
   ]
  },
  {
   "cell_type": "code",
   "execution_count": null,
   "metadata": {},
   "outputs": [],
   "source": []
  },
  {
   "cell_type": "code",
   "execution_count": 6,
   "metadata": {},
   "outputs": [],
   "source": [
    "tbx.register(\"evaluate\", EOQ)\n",
    "\n",
    "tbx.register(\"mate\", tools.cxOnePoint)\n",
    "tbx.register(\"mutate\", tools.mutFlipBit, indpb=0.01)\n",
    "tbx.register(\"select\", tools.selTournament, tournsize=5)"
   ]
  },
  {
   "cell_type": "code",
   "execution_count": null,
   "metadata": {},
   "outputs": [],
   "source": []
  },
  {
   "cell_type": "code",
   "execution_count": 7,
   "metadata": {},
   "outputs": [],
   "source": [
    "def set_fitness(population, is_offspring=True):\n",
    "    fitnesses = []\n",
    "    \n",
    "    if is_offspring:\n",
    "        fitnesses = list(\n",
    "            map(tbx.evaluate, \n",
    "            [ individual for individual in population if not individual.fitness.valid ])\n",
    "        )\n",
    "    else:\n",
    "        fitnesses = list(\n",
    "            map(tbx.evaluate, \n",
    "            [ individual for individual in population ])\n",
    "        )\n",
    "    \n",
    "    for individual, fitness in zip(population, fitnesses):\n",
    "        individual.fitness.values = fitness\n",
    "        \n",
    "def pull_stats(population, iteration=1):\n",
    "    fitnesses = [ individual.fitness.values[0] for individual in population ]\n",
    "    return {\n",
    "        'i': iteration,\n",
    "        'mu': np.mean(fitnesses),\n",
    "        'std': np.std(fitnesses),\n",
    "        'max': np.max(fitnesses),\n",
    "        'min': np.min(fitnesses)\n",
    "    }"
   ]
  },
  {
   "cell_type": "code",
   "execution_count": 8,
   "metadata": {},
   "outputs": [],
   "source": [
    "## create random population,\n",
    "population = tbx.population(n=100)\n",
    "\n",
    "## set fitness,\n",
    "set_fitness(population, False)"
   ]
  },
  {
   "cell_type": "code",
   "execution_count": null,
   "metadata": {},
   "outputs": [],
   "source": []
  },
  {
   "cell_type": "code",
   "execution_count": 9,
   "metadata": {},
   "outputs": [
    {
     "data": {
      "text/plain": [
       "[[1, 1, 0, 0, 1, 0, 1, 0, 1, 1, 0, 0, 1, 1, 0, 1, 1, 1, 0, 0],\n",
       " [1, 1, 1, 0, 0, 0, 1, 0, 1, 0, 0, 1, 1, 0, 0, 1, 0, 1, 0, 0],\n",
       " [1, 0, 0, 1, 1, 0, 0, 1, 1, 1, 1, 0, 1, 1, 0, 0, 1, 0, 1, 0],\n",
       " [0, 0, 1, 0, 0, 0, 0, 1, 1, 1, 1, 0, 1, 1, 0, 0, 1, 0, 1, 1],\n",
       " [1, 1, 0, 0, 1, 0, 1, 0, 0, 1, 0, 0, 0, 0, 0, 1, 0, 0, 0, 0]]"
      ]
     },
     "execution_count": 9,
     "metadata": {},
     "output_type": "execute_result"
    }
   ],
   "source": [
    "## quick look at the initial population,\n",
    "population[:5]"
   ]
  },
  {
   "cell_type": "code",
   "execution_count": null,
   "metadata": {},
   "outputs": [],
   "source": []
  },
  {
   "cell_type": "code",
   "execution_count": 10,
   "metadata": {},
   "outputs": [],
   "source": [
    "## globals,\n",
    "stats = []"
   ]
  },
  {
   "cell_type": "code",
   "execution_count": 11,
   "metadata": {},
   "outputs": [],
   "source": [
    "iteration = 1\n",
    "while iteration < 26:\n",
    "    \n",
    "    offspring = tbx.select(population, len(population))\n",
    "    offspring = list(map(tbx.clone, offspring))\n",
    "\n",
    "    for child1, child2 in zip(offspring[::2], offspring[1::2]):\n",
    "        if random.random() < .5:\n",
    "            tbx.mate(child1, child2)\n",
    "            \n",
    "            del child1.fitness.values\n",
    "            del child2.fitness.values\n",
    "    \n",
    "    for mutant in offspring:\n",
    "        tbx.mutate(mutant)\n",
    "        \n",
    "        del mutant.fitness.values\n",
    "    \n",
    "    set_fitness(offspring, True)\n",
    "    population[:] = offspring\n",
    "    \n",
    "    ## set fitness on individuals in the population,\n",
    "    stats.append(\n",
    "        pull_stats(population, iteration))\n",
    "    \n",
    "    iteration += 1"
   ]
  },
  {
   "cell_type": "code",
   "execution_count": null,
   "metadata": {},
   "outputs": [],
   "source": []
  },
  {
   "cell_type": "code",
   "execution_count": 12,
   "metadata": {},
   "outputs": [],
   "source": [
    "import seaborn as sns\n",
    "import matplotlib.pyplot as plt\n",
    "\n",
    "sns.set()"
   ]
  },
  {
   "cell_type": "code",
   "execution_count": 13,
   "metadata": {},
   "outputs": [
    {
     "data": {
      "image/png": "[encoded data removed]",
      "text/plain": [
       "<Figure size 432x288 with 1 Axes>"
      ]
     },
     "metadata": {},
     "output_type": "display_data"
    }
   ],
   "source": [
    "_ = plt.scatter(range(1, len(stats)+1), [ s['mu'] for s in stats ] )\n",
    "\n",
    "_ = plt.title('average fitness per iteration')\n",
    "_ = plt.xlabel('iterations')\n",
    "_ = plt.ylabel('fitness')\n",
    "\n",
    "plt.show()"
   ]
  },
  {
   "cell_type": "code",
   "execution_count": null,
   "metadata": {},
   "outputs": [],
   "source": []
  },
  {
   "cell_type": "code",
   "execution_count": 14,
   "metadata": {},
   "outputs": [
    {
     "data": {
      "text/plain": [
       "[6309, 6311, 6311, 6317, 6311, 6325, 39079, 6308, 6181, 71845]"
      ]
     },
     "execution_count": 14,
     "metadata": {},
     "output_type": "execute_result"
    }
   ],
   "source": [
    "def to_int(b):\n",
    "    return int(b, 2)\n",
    "    \n",
    "[ to_int(''.join((str(xi) for xi in individual))) for individual in population ][:10]"
   ]
  },
  {
   "cell_type": "code",
   "execution_count": null,
   "metadata": {},
   "outputs": [],
   "source": []
  }
 ],
 "metadata": {
  "kernelspec": {
   "display_name": "Python 3",
   "language": "python",
   "name": "python3"
  },
  "language_info": {
   "codemirror_mode": {
    "name": "ipython",
    "version": 3
   },
   "file_extension": ".py",
   "mimetype": "text/x-python",
   "name": "python",
   "nbconvert_exporter": "python",
   "pygments_lexer": "ipython3",
   "version": "3.6.4"
  }
 },
 "nbformat": 4,
 "nbformat_minor": 2
}
